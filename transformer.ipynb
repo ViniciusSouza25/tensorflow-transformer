{
  "nbformat": 4,
  "nbformat_minor": 0,
  "metadata": {
    "colab": {
      "provenance": []
    },
    "kernelspec": {
      "name": "python3",
      "display_name": "Python 3"
    },
    "language_info": {
      "name": "python"
    }
  },
  "cells": [
    {
      "cell_type": "code",
      "execution_count": 1,
      "metadata": {
        "id": "VQwTvpS_Oj24"
      },
      "outputs": [],
      "source": [
        "import tensorflow as tf\n",
        "import tensorflow_datasets as tfds\n",
        "import numpy as np\n",
        "\n",
        "def load_data():\n",
        "    dataset_name = \"ted_hrlr_translate/pt_to_en\"\n",
        "    examples, metadata = tfds.load(dataset_name, as_supervised=True, with_info=True)\n",
        "    return examples[\"train\"], examples[\"validation\"]\n",
        "\n",
        "def tokenize_text(text, tokenizer):\n",
        "    return tokenizer.texts_to_sequences(text)\n",
        "\n",
        "def prepare_data():\n",
        "    train_data, val_data = load_data()\n",
        "    tokenizer_pt = tfds.deprecated.text.SubwordTextEncoder.build_from_corpus(\n",
        "        (pt.numpy() for pt, en in train_data), target_vocab_size=2**13)\n",
        "    tokenizer_en = tfds.deprecated.text.SubwordTextEncoder.build_from_corpus(\n",
        "        (en.numpy() for pt, en in train_data), target_vocab_size=2**13)\n",
        "    return train_data, val_data, tokenizer_pt, tokenizer_en\n"
      ]
    },
    {
      "cell_type": "code",
      "source": [
        "def scaled_dot_product_attention(q, k, v, mask):\n",
        "    matmul_qk = tf.matmul(q, k, transpose_b=True)\n",
        "    depth = tf.cast(tf.shape(k)[-1], tf.float32)\n",
        "    scaled_attention_logits = matmul_qk / tf.math.sqrt(depth)\n",
        "    if mask is not None:\n",
        "        scaled_attention_logits += (mask * -1e9)\n",
        "    attention_weights = tf.nn.softmax(scaled_attention_logits, axis=-1)\n",
        "    output = tf.matmul(attention_weights, v)\n",
        "    return output"
      ],
      "metadata": {
        "id": "z-JXYZ1hPbIn"
      },
      "execution_count": 2,
      "outputs": []
    }
  ]
}